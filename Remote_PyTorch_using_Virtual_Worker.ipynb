{
  "nbformat": 4,
  "nbformat_minor": 0,
  "metadata": {
    "colab": {
      "name": "Remote PyTorch using Virtual Worker.ipynb",
      "version": "0.3.2",
      "provenance": [],
      "collapsed_sections": [],
      "toc_visible": true,
      "include_colab_link": true
    },
    "kernelspec": {
      "display_name": "Python 3",
      "language": "python",
      "name": "python3"
    }
  },
  "cells": [
    {
      "cell_type": "markdown",
      "metadata": {
        "id": "view-in-github",
        "colab_type": "text"
      },
      "source": [
        "<a href=\"https://colab.research.google.com/github/RichGit101/100-days-of-code/blob/master/Remote_PyTorch_using_Virtual_Worker.ipynb\" target=\"_parent\"><img src=\"https://colab.research.google.com/assets/colab-badge.svg\" alt=\"Open In Colab\"/></a>"
      ]
    },
    {
      "metadata": {
        "id": "p1t4hUFEQ6qJ",
        "colab_type": "text"
      },
      "cell_type": "markdown",
      "source": [
        "# Basic Virtual Worker Tutorial\n",
        "\n",
        "This notebook contains a basic introduction to PySyft using VirtualWorkers, which are local workers designed to make learning and developement easy (i.e., not require an actual internet connection). All of your workers (performing Torch operations) will live in this one notebook. However, the interfaces will be identical to those that do execute commands over a network.\n",
        "\n",
        "This tutorial assumes you are already familiar with torch. If you need a primer on PyTorch, check out the following tutorial. (https://pytorch.org/tutorials/beginner/deep_learning_60min_blitz.html)"
      ]
    },
    {
      "metadata": {
        "id": "7qImsy4dVYGf",
        "colab_type": "text"
      },
      "cell_type": "markdown",
      "source": [
        "#Step -1: Copy This Notebook\n",
        "\n",
        "Go up to File -> Save A Copy in Drive \n",
        "\n",
        "This will let you execute the notebook (it won't let you execute this one by default)"
      ]
    },
    {
      "metadata": {
        "id": "ilpQWq0IVTod",
        "colab_type": "text"
      },
      "cell_type": "markdown",
      "source": [
        "# Step 0: Install Dependencies"
      ]
    },
    {
      "metadata": {
        "id": "kc31xenyRGUh",
        "colab_type": "code",
        "outputId": "531466cc-270e-4a22-a899-e3e926b081e0",
        "colab": {
          "base_uri": "https://localhost:8080/",
          "height": 5154
        }
      },
      "cell_type": "code",
      "source": [
        "! git clone https://github.com/OpenMined/PySyft.git\n",
        "# http://pytorch.org/\n",
        "from os import path\n",
        "from wheel.pep425tags import get_abbr_impl, get_impl_ver, get_abi_tag\n",
        "platform = '{}{}-{}'.format(get_abbr_impl(), get_impl_ver(), get_abi_tag())\n",
        "\n",
        "accelerator = 'cu80' if path.exists('/opt/bin/nvidia-smi') else 'cpu'\n",
        "\n",
        "!pip install -q http://download.pytorch.org/whl/{accelerator}/torch-0.3.0.post4-{platform}-linux_x86_64.whl torchvision\n",
        "import torch\n",
        "\n",
        "!cd PySyft; pip install -r requirements.txt; python setup.py install\n",
        "\n",
        "import os\n",
        "import sys\n",
        "module_path = os.path.abspath(os.path.join('./PySyft'))\n",
        "if module_path not in sys.path:\n",
        "    sys.path.append(module_path)"
      ],
      "execution_count": 0,
      "outputs": [
        {
          "output_type": "stream",
          "text": [
            "fatal: destination path 'PySyft' already exists and is not an empty directory.\n",
            "Requirement already satisfied: pre-commit in /usr/local/lib/python3.6/dist-packages (from -r requirements.txt (line 1)) (1.10.5)\n",
            "Requirement already satisfied: sphinx_rtd_theme in /usr/local/lib/python3.6/dist-packages (from -r requirements.txt (line 2)) (0.4.1)\n",
            "Requirement already satisfied: websockets in /usr/local/lib/python3.6/dist-packages (from -r requirements.txt (line 3)) (6.0)\n",
            "Requirement already satisfied: cached-property in /usr/local/lib/python3.6/dist-packages (from pre-commit->-r requirements.txt (line 1)) (1.4.3)\n",
            "Requirement already satisfied: six in /usr/local/lib/python3.6/dist-packages (from pre-commit->-r requirements.txt (line 1)) (1.11.0)\n",
            "Requirement already satisfied: virtualenv in /usr/local/lib/python3.6/dist-packages (from pre-commit->-r requirements.txt (line 1)) (16.0.0)\n",
            "Requirement already satisfied: cfgv>=1.0.0 in /usr/local/lib/python3.6/dist-packages (from pre-commit->-r requirements.txt (line 1)) (1.1.0)\n",
            "Requirement already satisfied: pyyaml in /usr/local/lib/python3.6/dist-packages (from pre-commit->-r requirements.txt (line 1)) (3.13)\n",
            "Requirement already satisfied: identify>=1.0.0 in /usr/local/lib/python3.6/dist-packages (from pre-commit->-r requirements.txt (line 1)) (1.1.4)\n",
            "Requirement already satisfied: aspy.yaml in /usr/local/lib/python3.6/dist-packages (from pre-commit->-r requirements.txt (line 1)) (1.1.1)\n",
            "Requirement already satisfied: nodeenv>=0.11.1 in /usr/local/lib/python3.6/dist-packages (from pre-commit->-r requirements.txt (line 1)) (1.3.2)\n",
            "Requirement already satisfied: toml in /usr/local/lib/python3.6/dist-packages (from pre-commit->-r requirements.txt (line 1)) (0.9.4)\n",
            "Requirement already satisfied: sphinx in /usr/local/lib/python3.6/dist-packages (from sphinx_rtd_theme->-r requirements.txt (line 2)) (1.7.8)\n",
            "Requirement already satisfied: setuptools in /usr/local/lib/python3.6/dist-packages (from sphinx->sphinx_rtd_theme->-r requirements.txt (line 2)) (39.1.0)\n",
            "Requirement already satisfied: packaging in /usr/local/lib/python3.6/dist-packages (from sphinx->sphinx_rtd_theme->-r requirements.txt (line 2)) (17.1)\n",
            "Requirement already satisfied: snowballstemmer>=1.1 in /usr/local/lib/python3.6/dist-packages (from sphinx->sphinx_rtd_theme->-r requirements.txt (line 2)) (1.2.1)\n",
            "Requirement already satisfied: alabaster<0.8,>=0.7 in /usr/local/lib/python3.6/dist-packages (from sphinx->sphinx_rtd_theme->-r requirements.txt (line 2)) (0.7.11)\n",
            "Requirement already satisfied: babel!=2.0,>=1.3 in /usr/local/lib/python3.6/dist-packages (from sphinx->sphinx_rtd_theme->-r requirements.txt (line 2)) (2.6.0)\n",
            "Requirement already satisfied: sphinxcontrib-websupport in /usr/local/lib/python3.6/dist-packages (from sphinx->sphinx_rtd_theme->-r requirements.txt (line 2)) (1.1.0)\n",
            "Requirement already satisfied: Jinja2>=2.3 in /usr/local/lib/python3.6/dist-packages (from sphinx->sphinx_rtd_theme->-r requirements.txt (line 2)) (2.10)\n",
            "Requirement already satisfied: imagesize in /usr/local/lib/python3.6/dist-packages (from sphinx->sphinx_rtd_theme->-r requirements.txt (line 2)) (1.0.0)\n",
            "Requirement already satisfied: requests>=2.0.0 in /usr/local/lib/python3.6/dist-packages (from sphinx->sphinx_rtd_theme->-r requirements.txt (line 2)) (2.18.4)\n",
            "Requirement already satisfied: Pygments>=2.0 in /usr/local/lib/python3.6/dist-packages (from sphinx->sphinx_rtd_theme->-r requirements.txt (line 2)) (2.1.3)\n",
            "Requirement already satisfied: docutils>=0.11 in /usr/local/lib/python3.6/dist-packages (from sphinx->sphinx_rtd_theme->-r requirements.txt (line 2)) (0.14)\n",
            "Requirement already satisfied: pyparsing>=2.0.2 in /usr/local/lib/python3.6/dist-packages (from packaging->sphinx->sphinx_rtd_theme->-r requirements.txt (line 2)) (2.2.0)\n",
            "Requirement already satisfied: pytz>=0a in /usr/local/lib/python3.6/dist-packages (from babel!=2.0,>=1.3->sphinx->sphinx_rtd_theme->-r requirements.txt (line 2)) (2018.5)\n",
            "Requirement already satisfied: MarkupSafe>=0.23 in /usr/local/lib/python3.6/dist-packages (from Jinja2>=2.3->sphinx->sphinx_rtd_theme->-r requirements.txt (line 2)) (1.0)\n",
            "Requirement already satisfied: chardet<3.1.0,>=3.0.2 in /usr/local/lib/python3.6/dist-packages (from requests>=2.0.0->sphinx->sphinx_rtd_theme->-r requirements.txt (line 2)) (3.0.4)\n",
            "Requirement already satisfied: urllib3<1.23,>=1.21.1 in /usr/local/lib/python3.6/dist-packages (from requests>=2.0.0->sphinx->sphinx_rtd_theme->-r requirements.txt (line 2)) (1.22)\n",
            "Requirement already satisfied: idna<2.7,>=2.5 in /usr/local/lib/python3.6/dist-packages (from requests>=2.0.0->sphinx->sphinx_rtd_theme->-r requirements.txt (line 2)) (2.6)\n",
            "Requirement already satisfied: certifi>=2017.4.17 in /usr/local/lib/python3.6/dist-packages (from requests>=2.0.0->sphinx->sphinx_rtd_theme->-r requirements.txt (line 2)) (2018.8.24)\n",
            "running install\n",
            "running bdist_egg\n",
            "running egg_info\n",
            "writing syft.egg-info/PKG-INFO\n",
            "writing dependency_links to syft.egg-info/dependency_links.txt\n",
            "writing requirements to syft.egg-info/requires.txt\n",
            "writing top-level names to syft.egg-info/top_level.txt\n",
            "reading manifest file 'syft.egg-info/SOURCES.txt'\n",
            "writing manifest file 'syft.egg-info/SOURCES.txt'\n",
            "installing library code to build/bdist.linux-x86_64/egg\n",
            "running install_lib\n",
            "running build_py\n",
            "creating build/bdist.linux-x86_64/egg\n",
            "creating build/bdist.linux-x86_64/egg/test\n",
            "creating build/bdist.linux-x86_64/egg/test/core\n",
            "copying build/lib/test/core/utils_test.py -> build/bdist.linux-x86_64/egg/test/core\n",
            "copying build/lib/test/core/workers_test.py -> build/bdist.linux-x86_64/egg/test/core\n",
            "copying build/lib/test/core/hooks_test.py -> build/bdist.linux-x86_64/egg/test/core\n",
            "copying build/lib/test/core/__init__.py -> build/bdist.linux-x86_64/egg/test/core\n",
            "copying build/lib/test/torch_test.py -> build/bdist.linux-x86_64/egg/test\n",
            "copying build/lib/test/__init__.py -> build/bdist.linux-x86_64/egg/test\n",
            "copying build/lib/test/tensor_serde_test.py -> build/bdist.linux-x86_64/egg/test\n",
            "creating build/bdist.linux-x86_64/egg/syft\n",
            "creating build/bdist.linux-x86_64/egg/syft/core\n",
            "copying build/lib/syft/core/utils.py -> build/bdist.linux-x86_64/egg/syft/core\n",
            "creating build/bdist.linux-x86_64/egg/syft/core/frameworks\n",
            "copying build/lib/syft/core/frameworks/__init__.py -> build/bdist.linux-x86_64/egg/syft/core/frameworks\n",
            "creating build/bdist.linux-x86_64/egg/syft/core/frameworks/torch\n",
            "copying build/lib/syft/core/frameworks/torch/encode.py -> build/bdist.linux-x86_64/egg/syft/core/frameworks/torch\n",
            "copying build/lib/syft/core/frameworks/torch/utils.py -> build/bdist.linux-x86_64/egg/syft/core/frameworks/torch\n",
            "copying build/lib/syft/core/frameworks/torch/tensor.py -> build/bdist.linux-x86_64/egg/syft/core/frameworks/torch\n",
            "copying build/lib/syft/core/frameworks/torch/hook.py -> build/bdist.linux-x86_64/egg/syft/core/frameworks/torch\n",
            "copying build/lib/syft/core/frameworks/torch/__init__.py -> build/bdist.linux-x86_64/egg/syft/core/frameworks/torch\n",
            "copying build/lib/syft/core/frameworks/torch/functions.py -> build/bdist.linux-x86_64/egg/syft/core/frameworks/torch\n",
            "creating build/bdist.linux-x86_64/egg/syft/core/workers\n",
            "copying build/lib/syft/core/workers/virtual.py -> build/bdist.linux-x86_64/egg/syft/core/workers\n",
            "copying build/lib/syft/core/workers/websocket.py -> build/bdist.linux-x86_64/egg/syft/core/workers\n",
            "copying build/lib/syft/core/workers/socket.py -> build/bdist.linux-x86_64/egg/syft/core/workers\n",
            "copying build/lib/syft/core/workers/__init__.py -> build/bdist.linux-x86_64/egg/syft/core/workers\n",
            "copying build/lib/syft/core/workers/base.py -> build/bdist.linux-x86_64/egg/syft/core/workers\n",
            "copying build/lib/syft/core/__init__.py -> build/bdist.linux-x86_64/egg/syft/core\n",
            "creating build/bdist.linux-x86_64/egg/syft/mpc\n",
            "creating build/bdist.linux-x86_64/egg/syft/mpc/interface\n",
            "copying build/lib/syft/mpc/interface/grid_client_interface.py -> build/bdist.linux-x86_64/egg/syft/mpc/interface\n",
            "copying build/lib/syft/mpc/interface/base_interface.py -> build/bdist.linux-x86_64/egg/syft/mpc/interface\n",
            "copying build/lib/syft/mpc/interface/distributed_interface.py -> build/bdist.linux-x86_64/egg/syft/mpc/interface\n",
            "copying build/lib/syft/mpc/interface/grid_worker_interface.py -> build/bdist.linux-x86_64/egg/syft/mpc/interface\n",
            "copying build/lib/syft/mpc/interface/__init__.py -> build/bdist.linux-x86_64/egg/syft/mpc/interface\n",
            "copying build/lib/syft/mpc/spdz.py -> build/bdist.linux-x86_64/egg/syft/mpc\n",
            "copying build/lib/syft/mpc/shared_variable.py -> build/bdist.linux-x86_64/egg/syft/mpc\n",
            "copying build/lib/syft/mpc/__init__.py -> build/bdist.linux-x86_64/egg/syft/mpc\n",
            "copying build/lib/syft/__init__.py -> build/bdist.linux-x86_64/egg/syft\n",
            "byte-compiling build/bdist.linux-x86_64/egg/test/core/utils_test.py to utils_test.cpython-36.pyc\n",
            "byte-compiling build/bdist.linux-x86_64/egg/test/core/workers_test.py to workers_test.cpython-36.pyc\n",
            "byte-compiling build/bdist.linux-x86_64/egg/test/core/hooks_test.py to hooks_test.cpython-36.pyc\n",
            "byte-compiling build/bdist.linux-x86_64/egg/test/core/__init__.py to __init__.cpython-36.pyc\n",
            "byte-compiling build/bdist.linux-x86_64/egg/test/torch_test.py to torch_test.cpython-36.pyc\n",
            "byte-compiling build/bdist.linux-x86_64/egg/test/__init__.py to __init__.cpython-36.pyc\n",
            "byte-compiling build/bdist.linux-x86_64/egg/test/tensor_serde_test.py to tensor_serde_test.cpython-36.pyc\n",
            "byte-compiling build/bdist.linux-x86_64/egg/syft/core/utils.py to utils.cpython-36.pyc\n",
            "byte-compiling build/bdist.linux-x86_64/egg/syft/core/frameworks/__init__.py to __init__.cpython-36.pyc\n",
            "byte-compiling build/bdist.linux-x86_64/egg/syft/core/frameworks/torch/encode.py to encode.cpython-36.pyc\n",
            "byte-compiling build/bdist.linux-x86_64/egg/syft/core/frameworks/torch/utils.py to utils.cpython-36.pyc\n",
            "byte-compiling build/bdist.linux-x86_64/egg/syft/core/frameworks/torch/tensor.py to tensor.cpython-36.pyc\n",
            "byte-compiling build/bdist.linux-x86_64/egg/syft/core/frameworks/torch/hook.py to hook.cpython-36.pyc\n",
            "byte-compiling build/bdist.linux-x86_64/egg/syft/core/frameworks/torch/__init__.py to __init__.cpython-36.pyc\n",
            "byte-compiling build/bdist.linux-x86_64/egg/syft/core/frameworks/torch/functions.py to functions.cpython-36.pyc\n",
            "byte-compiling build/bdist.linux-x86_64/egg/syft/core/workers/virtual.py to virtual.cpython-36.pyc\n",
            "byte-compiling build/bdist.linux-x86_64/egg/syft/core/workers/websocket.py to websocket.cpython-36.pyc\n",
            "byte-compiling build/bdist.linux-x86_64/egg/syft/core/workers/socket.py to socket.cpython-36.pyc\n",
            "byte-compiling build/bdist.linux-x86_64/egg/syft/core/workers/__init__.py to __init__.cpython-36.pyc\n",
            "byte-compiling build/bdist.linux-x86_64/egg/syft/core/workers/base.py to base.cpython-36.pyc\n",
            "byte-compiling build/bdist.linux-x86_64/egg/syft/core/__init__.py to __init__.cpython-36.pyc\n",
            "byte-compiling build/bdist.linux-x86_64/egg/syft/mpc/interface/grid_client_interface.py to grid_client_interface.cpython-36.pyc\n",
            "byte-compiling build/bdist.linux-x86_64/egg/syft/mpc/interface/base_interface.py to base_interface.cpython-36.pyc\n",
            "byte-compiling build/bdist.linux-x86_64/egg/syft/mpc/interface/distributed_interface.py to distributed_interface.cpython-36.pyc\n",
            "byte-compiling build/bdist.linux-x86_64/egg/syft/mpc/interface/grid_worker_interface.py to grid_worker_interface.cpython-36.pyc\n",
            "byte-compiling build/bdist.linux-x86_64/egg/syft/mpc/interface/__init__.py to __init__.cpython-36.pyc\n",
            "byte-compiling build/bdist.linux-x86_64/egg/syft/mpc/spdz.py to spdz.cpython-36.pyc\n",
            "byte-compiling build/bdist.linux-x86_64/egg/syft/mpc/shared_variable.py to shared_variable.cpython-36.pyc\n",
            "byte-compiling build/bdist.linux-x86_64/egg/syft/mpc/__init__.py to __init__.cpython-36.pyc\n",
            "byte-compiling build/bdist.linux-x86_64/egg/syft/__init__.py to __init__.cpython-36.pyc\n",
            "creating build/bdist.linux-x86_64/egg/EGG-INFO\n",
            "copying syft.egg-info/PKG-INFO -> build/bdist.linux-x86_64/egg/EGG-INFO\n",
            "copying syft.egg-info/SOURCES.txt -> build/bdist.linux-x86_64/egg/EGG-INFO\n",
            "copying syft.egg-info/dependency_links.txt -> build/bdist.linux-x86_64/egg/EGG-INFO\n",
            "copying syft.egg-info/requires.txt -> build/bdist.linux-x86_64/egg/EGG-INFO\n",
            "copying syft.egg-info/top_level.txt -> build/bdist.linux-x86_64/egg/EGG-INFO\n",
            "zip_safe flag not set; analyzing archive contents...\n",
            "creating 'dist/syft-0.1.0-py3.6.egg' and adding 'build/bdist.linux-x86_64/egg' to it\n",
            "removing 'build/bdist.linux-x86_64/egg' (and everything under it)\n",
            "Processing syft-0.1.0-py3.6.egg\n",
            "Removing /usr/local/lib/python3.6/dist-packages/syft-0.1.0-py3.6.egg\n",
            "Copying syft-0.1.0-py3.6.egg to /usr/local/lib/python3.6/dist-packages\n",
            "syft 0.1.0 is already the active version in easy-install.pth\n",
            "\n",
            "Installed /usr/local/lib/python3.6/dist-packages/syft-0.1.0-py3.6.egg\n",
            "Processing dependencies for syft==0.1.0\n",
            "Searching for websockets==6.0\n",
            "Best match: websockets 6.0\n",
            "Adding websockets 6.0 to easy-install.pth file\n",
            "\n",
            "Using /usr/local/lib/python3.6/dist-packages\n",
            "Searching for sphinx-rtd-theme==0.4.1\n",
            "Best match: sphinx-rtd-theme 0.4.1\n",
            "Adding sphinx-rtd-theme 0.4.1 to easy-install.pth file\n",
            "\n",
            "Using /usr/local/lib/python3.6/dist-packages\n",
            "Searching for pre-commit==1.10.5\n",
            "Best match: pre-commit 1.10.5\n",
            "Adding pre-commit 1.10.5 to easy-install.pth file\n",
            "Installing pre-commit script to /usr/local/bin\n",
            "Installing pre-commit-validate-config script to /usr/local/bin\n",
            "Installing pre-commit-validate-manifest script to /usr/local/bin\n",
            "\n",
            "Using /usr/local/lib/python3.6/dist-packages\n",
            "Searching for Sphinx==1.7.8\n",
            "Best match: Sphinx 1.7.8\n",
            "Adding Sphinx 1.7.8 to easy-install.pth file\n",
            "Installing sphinx-apidoc script to /usr/local/bin\n",
            "Installing sphinx-autogen script to /usr/local/bin\n",
            "Installing sphinx-build script to /usr/local/bin\n",
            "Installing sphinx-quickstart script to /usr/local/bin\n",
            "\n",
            "Using /usr/local/lib/python3.6/dist-packages\n",
            "Searching for virtualenv==16.0.0\n",
            "Best match: virtualenv 16.0.0\n",
            "Adding virtualenv 16.0.0 to easy-install.pth file\n",
            "Installing virtualenv script to /usr/local/bin\n",
            "\n",
            "Using /usr/local/lib/python3.6/dist-packages\n",
            "Searching for six==1.11.0\n",
            "Best match: six 1.11.0\n",
            "Adding six 1.11.0 to easy-install.pth file\n",
            "\n",
            "Using /usr/local/lib/python3.6/dist-packages\n",
            "Searching for cached-property==1.4.3\n",
            "Best match: cached-property 1.4.3\n",
            "Adding cached-property 1.4.3 to easy-install.pth file\n",
            "\n",
            "Using /usr/local/lib/python3.6/dist-packages\n",
            "Searching for aspy.yaml==1.1.1\n",
            "Best match: aspy.yaml 1.1.1\n",
            "Adding aspy.yaml 1.1.1 to easy-install.pth file\n",
            "\n",
            "Using /usr/local/lib/python3.6/dist-packages\n",
            "Searching for identify==1.1.4\n",
            "Best match: identify 1.1.4\n",
            "Adding identify 1.1.4 to easy-install.pth file\n",
            "Installing identify-cli script to /usr/local/bin\n",
            "\n",
            "Using /usr/local/lib/python3.6/dist-packages\n",
            "Searching for cfgv==1.1.0\n",
            "Best match: cfgv 1.1.0\n",
            "Adding cfgv 1.1.0 to easy-install.pth file\n",
            "\n",
            "Using /usr/local/lib/python3.6/dist-packages\n",
            "Searching for nodeenv==1.3.2\n",
            "Best match: nodeenv 1.3.2\n",
            "Adding nodeenv 1.3.2 to easy-install.pth file\n",
            "Installing nodeenv script to /usr/local/bin\n",
            "\n",
            "Using /usr/local/lib/python3.6/dist-packages\n",
            "Searching for toml==0.9.4\n",
            "Best match: toml 0.9.4\n",
            "Adding toml 0.9.4 to easy-install.pth file\n",
            "\n",
            "Using /usr/local/lib/python3.6/dist-packages\n",
            "Searching for PyYAML==3.13\n",
            "Best match: PyYAML 3.13\n",
            "Adding PyYAML 3.13 to easy-install.pth file\n",
            "\n",
            "Using /usr/local/lib/python3.6/dist-packages\n",
            "Searching for docutils==0.14\n",
            "Best match: docutils 0.14\n",
            "Adding docutils 0.14 to easy-install.pth file\n",
            "\n",
            "Using /usr/local/lib/python3.6/dist-packages\n",
            "Searching for Jinja2==2.10\n",
            "Best match: Jinja2 2.10\n",
            "Adding Jinja2 2.10 to easy-install.pth file\n",
            "\n",
            "Using /usr/local/lib/python3.6/dist-packages\n",
            "Searching for Pygments==2.1.3\n",
            "Best match: Pygments 2.1.3\n",
            "Adding Pygments 2.1.3 to easy-install.pth file\n",
            "Installing pygmentize script to /usr/local/bin\n",
            "\n",
            "Using /usr/local/lib/python3.6/dist-packages\n",
            "Searching for imagesize==1.0.0\n",
            "Best match: imagesize 1.0.0\n",
            "Adding imagesize 1.0.0 to easy-install.pth file\n",
            "\n",
            "Using /usr/local/lib/python3.6/dist-packages\n",
            "Searching for snowballstemmer==1.2.1\n",
            "Best match: snowballstemmer 1.2.1\n",
            "Adding snowballstemmer 1.2.1 to easy-install.pth file\n",
            "\n",
            "Using /usr/local/lib/python3.6/dist-packages\n",
            "Searching for sphinxcontrib-websupport==1.1.0\n",
            "Best match: sphinxcontrib-websupport 1.1.0\n",
            "Adding sphinxcontrib-websupport 1.1.0 to easy-install.pth file\n",
            "\n",
            "Using /usr/local/lib/python3.6/dist-packages\n",
            "Searching for alabaster==0.7.11\n",
            "Best match: alabaster 0.7.11\n",
            "Adding alabaster 0.7.11 to easy-install.pth file\n",
            "\n",
            "Using /usr/local/lib/python3.6/dist-packages\n",
            "Searching for setuptools==39.1.0\n",
            "Best match: setuptools 39.1.0\n",
            "Adding setuptools 39.1.0 to easy-install.pth file\n",
            "Installing easy_install script to /usr/local/bin\n",
            "Installing easy_install-3.6 script to /usr/local/bin\n",
            "\n",
            "Using /usr/local/lib/python3.6/dist-packages\n",
            "Searching for Babel==2.6.0\n",
            "Best match: Babel 2.6.0\n",
            "Adding Babel 2.6.0 to easy-install.pth file\n",
            "Installing pybabel script to /usr/local/bin\n",
            "\n",
            "Using /usr/local/lib/python3.6/dist-packages\n",
            "Searching for packaging==17.1\n",
            "Best match: packaging 17.1\n",
            "Adding packaging 17.1 to easy-install.pth file\n",
            "\n",
            "Using /usr/local/lib/python3.6/dist-packages\n",
            "Searching for requests==2.18.4\n",
            "Best match: requests 2.18.4\n",
            "Adding requests 2.18.4 to easy-install.pth file\n",
            "\n",
            "Using /usr/local/lib/python3.6/dist-packages\n",
            "Searching for MarkupSafe==1.0\n",
            "Best match: MarkupSafe 1.0\n",
            "Adding MarkupSafe 1.0 to easy-install.pth file\n",
            "\n",
            "Using /usr/local/lib/python3.6/dist-packages\n",
            "Searching for pytz==2018.5\n",
            "Best match: pytz 2018.5\n",
            "Adding pytz 2018.5 to easy-install.pth file\n",
            "\n",
            "Using /usr/local/lib/python3.6/dist-packages\n",
            "Searching for pyparsing==2.2.0\n",
            "Best match: pyparsing 2.2.0\n",
            "Adding pyparsing 2.2.0 to easy-install.pth file\n",
            "\n",
            "Using /usr/local/lib/python3.6/dist-packages\n",
            "Searching for certifi==2018.8.24\n",
            "Best match: certifi 2018.8.24\n",
            "Adding certifi 2018.8.24 to easy-install.pth file\n",
            "\n",
            "Using /usr/local/lib/python3.6/dist-packages\n",
            "Searching for idna==2.6\n",
            "Best match: idna 2.6\n",
            "Adding idna 2.6 to easy-install.pth file\n",
            "\n",
            "Using /usr/local/lib/python3.6/dist-packages\n",
            "Searching for urllib3==1.22\n",
            "Best match: urllib3 1.22\n",
            "Adding urllib3 1.22 to easy-install.pth file\n",
            "\n",
            "Using /usr/local/lib/python3.6/dist-packages\n",
            "Searching for chardet==3.0.4\n",
            "Best match: chardet 3.0.4\n",
            "Adding chardet 3.0.4 to easy-install.pth file\n",
            "Installing chardetect script to /usr/local/bin\n",
            "\n",
            "Using /usr/local/lib/python3.6/dist-packages\n",
            "Finished processing dependencies for syft==0.1.0\n"
          ],
          "name": "stdout"
        }
      ]
    },
    {
      "metadata": {
        "id": "iWuYJiLdQ6qM",
        "colab_type": "text"
      },
      "cell_type": "markdown",
      "source": [
        "## Step 1: Initializing a Hook\n",
        "\n",
        "PySyft, at it's most basic level, is a set of overloaded operations on major deep learning frameworks. (it takes a framework and modifies its default behavior). The object we use to do this is called a Hook, and we must \"run a hook\" in order to get PySyft's functionality."
      ]
    },
    {
      "metadata": {
        "id": "i1zlO-9jQ6qM",
        "colab_type": "code",
        "colab": {}
      },
      "cell_type": "code",
      "source": [
        "import syft as sy\n",
        "\n",
        "# this is our hook\n",
        "hook = sy.TorchHook()"
      ],
      "execution_count": 0,
      "outputs": []
    },
    {
      "metadata": {
        "id": "jI-y4k7pQ6qS",
        "colab_type": "text"
      },
      "cell_type": "markdown",
      "source": [
        "Now all the operations necessary to use PySyft have been overloaded. You can tell that it's been hooked in the following ways."
      ]
    },
    {
      "metadata": {
        "id": "20llHFNWQ6qT",
        "colab_type": "code",
        "colab": {}
      },
      "cell_type": "code",
      "source": [
        "# don't run this line... just type \"torch.old\" and then hit the <tab> key to see all the old_ functions\n",
        "# torch.old"
      ],
      "execution_count": 0,
      "outputs": []
    },
    {
      "metadata": {
        "id": "7VNByyO7Q6qX",
        "colab_type": "text"
      },
      "cell_type": "markdown",
      "source": [
        "See all the \"old\" functions that now appear in the package? Those are the original PyTorch functions.. simply renamed old+function-name. All of the actual functions (such as torch.abs()) are actually PySyft code which, if the conditions are right, will call the corresponding \"old\" functions (such as torch.old_abs()). In fact, the default will do this."
      ]
    },
    {
      "metadata": {
        "id": "lqXMKZcNQ6qY",
        "colab_type": "code",
        "outputId": "c5fc50dd-a2e6-4456-9902-83e12a8db848",
        "colab": {
          "base_uri": "https://localhost:8080/",
          "height": 153
        }
      },
      "cell_type": "code",
      "source": [
        "x = sy.FloatTensor([-2,-1,0,1,2,3])\n",
        "x"
      ],
      "execution_count": 0,
      "outputs": [
        {
          "output_type": "execute_result",
          "data": {
            "text/plain": [
              "\n",
              "-2\n",
              "-1\n",
              " 0\n",
              " 1\n",
              " 2\n",
              " 3\n",
              "[syft.core.frameworks.torch.tensor.FloatTensor of size 6]"
            ]
          },
          "metadata": {
            "tags": []
          },
          "execution_count": 3
        }
      ]
    },
    {
      "metadata": {
        "id": "IGY5-oIiQ6qc",
        "colab_type": "code",
        "outputId": "79012099-490f-4a9a-b48b-382018725d49",
        "colab": {
          "base_uri": "https://localhost:8080/",
          "height": 153
        }
      },
      "cell_type": "code",
      "source": [
        "x.abs()"
      ],
      "execution_count": 0,
      "outputs": [
        {
          "output_type": "execute_result",
          "data": {
            "text/plain": [
              "\n",
              " 2\n",
              " 1\n",
              " 0\n",
              " 1\n",
              " 2\n",
              " 3\n",
              "[syft.core.frameworks.torch.tensor.FloatTensor of size 6]"
            ]
          },
          "metadata": {
            "tags": []
          },
          "execution_count": 4
        }
      ]
    },
    {
      "metadata": {
        "id": "bxhIrDa1Q6qh",
        "colab_type": "text"
      },
      "cell_type": "markdown",
      "source": [
        "You may be wondering... what was the purpose of all this overloading?!?! PyTorch seems no different! Where the functionality for PySyft begins is when we start using what are called Workers. These are machines that can run PyTorch code _remotely_."
      ]
    },
    {
      "metadata": {
        "id": "U68pECttQ6qi",
        "colab_type": "text"
      },
      "cell_type": "markdown",
      "source": [
        "## Step 2: Initializing a Remote Worker\n",
        "\n",
        "As it turns out, you actually already have one worker created (by default) inside of TorchHook. It's called the \"local_worker\" and it represents the machine you're working on right now (your client)."
      ]
    },
    {
      "metadata": {
        "id": "rCyqS5DWQ6qi",
        "colab_type": "code",
        "outputId": "8077afab-a94e-4e57-d0d2-3f1d383d1751",
        "colab": {
          "base_uri": "https://localhost:8080/",
          "height": 34
        }
      },
      "cell_type": "code",
      "source": [
        "local = hook.local_worker\n",
        "local"
      ],
      "execution_count": 0,
      "outputs": [
        {
          "output_type": "execute_result",
          "data": {
            "text/plain": [
              "<syft.core.workers.virtual.VirtualWorker id:0>"
            ]
          },
          "metadata": {
            "tags": []
          },
          "execution_count": 5
        }
      ]
    },
    {
      "metadata": {
        "id": "QqkniBkGQ6qn",
        "colab_type": "text"
      },
      "cell_type": "markdown",
      "source": [
        "Now, you could have initialized your own local worker when you created the TorchHook, but since we didn't do that the hook automatically created one for you of type VirtualWorker. VirtualWorker is a special kind of worker which allows you to _pretend to initialize and talk to another machine_ when in fact all commands are actually running locally. It's very convenient because it allows you to do testing and development in an environment that exactly mimics working with a cluster of remote machines but all of the information is actually running locally (in this notebook!) which makes it easier to introspect (And write unit tests)."
      ]
    },
    {
      "metadata": {
        "id": "IpXVW2uUQ6qo",
        "colab_type": "code",
        "colab": {}
      },
      "cell_type": "code",
      "source": [
        "from syft.core.workers import VirtualWorker\n",
        "\n",
        "remote = VirtualWorker(id=1,hook=hook)"
      ],
      "execution_count": 0,
      "outputs": []
    },
    {
      "metadata": {
        "id": "MfbnI3OgQ6qr",
        "colab_type": "text"
      },
      "cell_type": "markdown",
      "source": [
        "Above we created a new worker with an id of 1.\n",
        "\n",
        "It's very important that all of your workers have different IDs. In case you were wondering, the local_worker is automatically initialized with an id of 0."
      ]
    },
    {
      "metadata": {
        "id": "GIwQzcZOQ6qt",
        "colab_type": "code",
        "outputId": "2abe3383-b8a2-4ef9-cd30-4d10b1ee4f49",
        "colab": {
          "base_uri": "https://localhost:8080/",
          "height": 34
        }
      },
      "cell_type": "code",
      "source": [
        "local.id"
      ],
      "execution_count": 0,
      "outputs": [
        {
          "output_type": "execute_result",
          "data": {
            "text/plain": [
              "0"
            ]
          },
          "metadata": {
            "tags": []
          },
          "execution_count": 7
        }
      ]
    },
    {
      "metadata": {
        "id": "FqoNKrW3Q6qx",
        "colab_type": "text"
      },
      "cell_type": "markdown",
      "source": [
        "However, before we start performing remote execution, we need to tell our local worker about our remote worker (so that the local worker... and by extension all of our local PyTorch objects... knows how to communicate with the new remote worker)"
      ]
    },
    {
      "metadata": {
        "id": "sRjwYtfeQ6qx",
        "colab_type": "code",
        "colab": {}
      },
      "cell_type": "code",
      "source": [
        "local.add_worker(remote)"
      ],
      "execution_count": 0,
      "outputs": []
    },
    {
      "metadata": {
        "id": "rhmsj0BZQ6q0",
        "colab_type": "text"
      },
      "cell_type": "markdown",
      "source": [
        "And done! We are now ready to start performing remote operations."
      ]
    },
    {
      "metadata": {
        "id": "H3NS8HvGQ6q0",
        "colab_type": "text"
      },
      "cell_type": "markdown",
      "source": [
        "## Step 3: Sending and Receiving Tensors from Remote Workers"
      ]
    },
    {
      "metadata": {
        "id": "KRmKYzQLQ6q2",
        "colab_type": "code",
        "colab": {}
      },
      "cell_type": "code",
      "source": [
        "x = sy.FloatTensor([1,2,3,4,5])\n",
        "x2 = sy.FloatTensor([1,1,1,1,1])"
      ],
      "execution_count": 0,
      "outputs": []
    },
    {
      "metadata": {
        "id": "7tIGRVMKQ6q6",
        "colab_type": "code",
        "outputId": "da00bda0-4934-4c74-ae84-ae4ae4a635a6",
        "colab": {
          "base_uri": "https://localhost:8080/",
          "height": 34
        }
      },
      "cell_type": "code",
      "source": [
        "x.send(remote)"
      ],
      "execution_count": 0,
      "outputs": [
        {
          "output_type": "execute_result",
          "data": {
            "text/plain": [
              "FloatTensor[_PointerTensor - id:7597329598 owner:0 loc:1 id@loc:84785812095]"
            ]
          },
          "metadata": {
            "tags": []
          },
          "execution_count": 10
        }
      ]
    },
    {
      "metadata": {
        "id": "Ms60RjIMQ6q_",
        "colab_type": "code",
        "outputId": "dfbd4578-9037-40ae-a733-f9f41ff8555c",
        "colab": {
          "base_uri": "https://localhost:8080/",
          "height": 34
        }
      },
      "cell_type": "code",
      "source": [
        "x2.send(remote)"
      ],
      "execution_count": 0,
      "outputs": [
        {
          "output_type": "execute_result",
          "data": {
            "text/plain": [
              "FloatTensor[_PointerTensor - id:4095460991 owner:0 loc:1 id@loc:7115184028]"
            ]
          },
          "metadata": {
            "tags": []
          },
          "execution_count": 11
        }
      ]
    },
    {
      "metadata": {
        "id": "HfYhCoGCQ6rC",
        "colab_type": "text"
      },
      "cell_type": "markdown",
      "source": [
        "Our tensors now live on the remote worker!! We can check in the following way."
      ]
    },
    {
      "metadata": {
        "id": "unQwl2NHQ6rC",
        "colab_type": "code",
        "outputId": "0f83cb01-d84a-4b16-a639-3533e459f000",
        "colab": {
          "base_uri": "https://localhost:8080/",
          "height": 34
        }
      },
      "cell_type": "code",
      "source": [
        "x.id"
      ],
      "execution_count": 0,
      "outputs": [
        {
          "output_type": "execute_result",
          "data": {
            "text/plain": [
              "7597329598"
            ]
          },
          "metadata": {
            "tags": []
          },
          "execution_count": 12
        }
      ]
    },
    {
      "metadata": {
        "id": "-6qs6hOPQ6rH",
        "colab_type": "code",
        "outputId": "cfb5d769-963d-48f6-8d0e-bc9170878f82",
        "colab": {
          "base_uri": "https://localhost:8080/",
          "height": 34
        }
      },
      "cell_type": "code",
      "source": [
        "x2.id"
      ],
      "execution_count": 0,
      "outputs": [
        {
          "output_type": "execute_result",
          "data": {
            "text/plain": [
              "4095460991"
            ]
          },
          "metadata": {
            "tags": []
          },
          "execution_count": 13
        }
      ]
    },
    {
      "metadata": {
        "id": "TndrAbkhQ6rK",
        "colab_type": "code",
        "outputId": "ae90eb97-b8e8-42fa-f929-90e433b3c216",
        "colab": {
          "base_uri": "https://localhost:8080/",
          "height": 51
        }
      },
      "cell_type": "code",
      "source": [
        "remote._objects"
      ],
      "execution_count": 0,
      "outputs": [
        {
          "output_type": "execute_result",
          "data": {
            "text/plain": [
              "{7115184028: [_LocalTensor - id:7115184028 owner:1],\n",
              " 84785812095: [_LocalTensor - id:84785812095 owner:1]}"
            ]
          },
          "metadata": {
            "tags": []
          },
          "execution_count": 14
        }
      ]
    },
    {
      "metadata": {
        "id": "KAJQ2HbjQ6rO",
        "colab_type": "text"
      },
      "cell_type": "markdown",
      "source": [
        "And there they are!!! Notice that when we print these tensors we can't actually see the data on the client (in this notebook) anymore."
      ]
    },
    {
      "metadata": {
        "id": "Meii6EaiQ6rO",
        "colab_type": "code",
        "outputId": "fd4fa5cd-5368-4982-f7ed-971ff8bd8b4d",
        "colab": {
          "base_uri": "https://localhost:8080/",
          "height": 34
        }
      },
      "cell_type": "code",
      "source": [
        "x"
      ],
      "execution_count": 0,
      "outputs": [
        {
          "output_type": "execute_result",
          "data": {
            "text/plain": [
              "FloatTensor[_PointerTensor - id:7597329598 owner:0 loc:1 id@loc:84785812095]"
            ]
          },
          "metadata": {
            "tags": []
          },
          "execution_count": 15
        }
      ]
    },
    {
      "metadata": {
        "id": "ZbHddw4ZQ6rR",
        "colab_type": "code",
        "outputId": "d87d4cf9-1715-4493-9e8f-12ad312355b9",
        "colab": {
          "base_uri": "https://localhost:8080/",
          "height": 34
        }
      },
      "cell_type": "code",
      "source": [
        "print(x)"
      ],
      "execution_count": 0,
      "outputs": [
        {
          "output_type": "stream",
          "text": [
            "FloatTensor[_PointerTensor - id:7597329598 owner:0 loc:1 id@loc:84785812095]\n"
          ],
          "name": "stdout"
        }
      ]
    },
    {
      "metadata": {
        "id": "6vVgRnraQ6rU",
        "colab_type": "code",
        "outputId": "8dd859e1-9013-4599-e87d-b2bad35b3bd0",
        "colab": {
          "base_uri": "https://localhost:8080/",
          "height": 34
        }
      },
      "cell_type": "code",
      "source": [
        "x2"
      ],
      "execution_count": 0,
      "outputs": [
        {
          "output_type": "execute_result",
          "data": {
            "text/plain": [
              "FloatTensor[_PointerTensor - id:4095460991 owner:0 loc:1 id@loc:7115184028]"
            ]
          },
          "metadata": {
            "tags": []
          },
          "execution_count": 17
        }
      ]
    },
    {
      "metadata": {
        "id": "SEAe_yQxQ6rW",
        "colab_type": "code",
        "outputId": "048b9c38-f230-4b05-a643-532d2fb7f4a6",
        "colab": {
          "base_uri": "https://localhost:8080/",
          "height": 34
        }
      },
      "cell_type": "code",
      "source": [
        "print(x2)"
      ],
      "execution_count": 0,
      "outputs": [
        {
          "output_type": "stream",
          "text": [
            "FloatTensor[_PointerTensor - id:4095460991 owner:0 loc:1 id@loc:7115184028]\n"
          ],
          "name": "stdout"
        }
      ]
    },
    {
      "metadata": {
        "id": "t6DEHNSyQ6ra",
        "colab_type": "text"
      },
      "cell_type": "markdown",
      "source": [
        "And if we perform operations... we can't see the result"
      ]
    },
    {
      "metadata": {
        "id": "BJtjG3JmQ6ra",
        "colab_type": "code",
        "colab": {}
      },
      "cell_type": "code",
      "source": [
        "y = x + x2"
      ],
      "execution_count": 0,
      "outputs": []
    },
    {
      "metadata": {
        "id": "95nAccWoQ6rc",
        "colab_type": "code",
        "outputId": "4a14e89e-03df-4614-cb9a-447798a3c41e",
        "colab": {
          "base_uri": "https://localhost:8080/",
          "height": 34
        }
      },
      "cell_type": "code",
      "source": [
        "y"
      ],
      "execution_count": 0,
      "outputs": [
        {
          "output_type": "execute_result",
          "data": {
            "text/plain": [
              "FloatTensor[_PointerTensor - id:4020191998 owner:0 loc:1 id@loc:2717747900]"
            ]
          },
          "metadata": {
            "tags": []
          },
          "execution_count": 20
        }
      ]
    },
    {
      "metadata": {
        "id": "4587ElmTQ6re",
        "colab_type": "code",
        "outputId": "9169002e-8497-44f2-e6a7-bd7e29f7334c",
        "colab": {
          "base_uri": "https://localhost:8080/",
          "height": 34
        }
      },
      "cell_type": "code",
      "source": [
        "print(y)"
      ],
      "execution_count": 0,
      "outputs": [
        {
          "output_type": "stream",
          "text": [
            "FloatTensor[_PointerTensor - id:4020191998 owner:0 loc:1 id@loc:2717747900]\n"
          ],
          "name": "stdout"
        }
      ]
    },
    {
      "metadata": {
        "id": "V9dMH1J-Q6ri",
        "colab_type": "text"
      },
      "cell_type": "markdown",
      "source": [
        "But, we can bring all of them back!"
      ]
    },
    {
      "metadata": {
        "id": "QqzVfCPLQ6rj",
        "colab_type": "code",
        "outputId": "93a47429-4d8f-498a-944b-b9b2f5f3c617",
        "colab": {
          "base_uri": "https://localhost:8080/",
          "height": 136
        }
      },
      "cell_type": "code",
      "source": [
        "x.get()"
      ],
      "execution_count": 0,
      "outputs": [
        {
          "output_type": "execute_result",
          "data": {
            "text/plain": [
              "\n",
              " 1\n",
              " 2\n",
              " 3\n",
              " 4\n",
              " 5\n",
              "[syft.core.frameworks.torch.tensor.FloatTensor of size 5]"
            ]
          },
          "metadata": {
            "tags": []
          },
          "execution_count": 22
        }
      ]
    },
    {
      "metadata": {
        "id": "p1LvlMkuQ6ro",
        "colab_type": "code",
        "outputId": "660ded7d-8525-4937-e891-cc6a727a1d43",
        "colab": {
          "base_uri": "https://localhost:8080/",
          "height": 136
        }
      },
      "cell_type": "code",
      "source": [
        "x2.get()"
      ],
      "execution_count": 0,
      "outputs": [
        {
          "output_type": "execute_result",
          "data": {
            "text/plain": [
              "\n",
              " 1\n",
              " 1\n",
              " 1\n",
              " 1\n",
              " 1\n",
              "[syft.core.frameworks.torch.tensor.FloatTensor of size 5]"
            ]
          },
          "metadata": {
            "tags": []
          },
          "execution_count": 23
        }
      ]
    },
    {
      "metadata": {
        "id": "TctP-D3oQ6rs",
        "colab_type": "code",
        "outputId": "239cd66b-3051-4b32-f1e2-8c54a7252ac6",
        "colab": {
          "base_uri": "https://localhost:8080/",
          "height": 136
        }
      },
      "cell_type": "code",
      "source": [
        "y.get()"
      ],
      "execution_count": 0,
      "outputs": [
        {
          "output_type": "execute_result",
          "data": {
            "text/plain": [
              "\n",
              " 2\n",
              " 3\n",
              " 4\n",
              " 5\n",
              " 6\n",
              "[syft.core.frameworks.torch.tensor.FloatTensor of size 5]"
            ]
          },
          "metadata": {
            "tags": []
          },
          "execution_count": 24
        }
      ]
    },
    {
      "metadata": {
        "id": "8FVXPbIJQ6rv",
        "colab_type": "code",
        "colab": {}
      },
      "cell_type": "code",
      "source": [
        ""
      ],
      "execution_count": 0,
      "outputs": []
    },
    {
      "metadata": {
        "id": "NTKCcWItQ6rx",
        "colab_type": "code",
        "colab": {}
      },
      "cell_type": "code",
      "source": [
        ""
      ],
      "execution_count": 0,
      "outputs": []
    }
  ]
}